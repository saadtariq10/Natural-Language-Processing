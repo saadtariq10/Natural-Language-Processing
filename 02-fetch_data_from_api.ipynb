{
  "nbformat": 4,
  "nbformat_minor": 0,
  "metadata": {
    "colab": {
      "provenance": [],
      "gpuType": "T4"
    },
    "kernelspec": {
      "name": "python3",
      "display_name": "Python 3"
    },
    "language_info": {
      "name": "python"
    },
    "accelerator": "GPU"
  },
  "cells": [
    {
      "cell_type": "code",
      "execution_count": 1,
      "metadata": {
        "id": "D_mIbzIQgWZg"
      },
      "outputs": [],
      "source": [
        "# !pip install requests pandas"
      ]
    },
    {
      "cell_type": "code",
      "source": [
        "import requests\n",
        "import pandas as pd"
      ],
      "metadata": {
        "id": "ADOi8g1vhFug"
      },
      "execution_count": 2,
      "outputs": []
    },
    {
      "cell_type": "code",
      "source": [
        "url = \"https://api.themoviedb.org/3/movie/top_rated\"\n",
        "api_key = \"8265bd1679663a7ea12ac168da84d2e8\"\n",
        "params = {\n",
        "    \"api_key\": api_key,\n",
        "    \"language\": \"en-US\",\n",
        "}"
      ],
      "metadata": {
        "id": "OQvm6p8ijD4t"
      },
      "execution_count": 3,
      "outputs": []
    },
    {
      "cell_type": "code",
      "source": [
        "all_results = []"
      ],
      "metadata": {
        "id": "T3oJN79fkosX"
      },
      "execution_count": 4,
      "outputs": []
    },
    {
      "cell_type": "code",
      "source": [
        "# Loop through each page and fetch the data\n",
        "for page in range(1, 478):\n",
        "    params['page'] = page\n",
        "    response = requests.get(url, params=params)\n",
        "\n",
        "    # Check if the request was successful\n",
        "    if response.status_code == 200:\n",
        "        # Parse the JSON response\n",
        "        data = response.json()\n",
        "\n",
        "        # Extract the results and add to the list\n",
        "        all_results.extend(data['results'])\n",
        "        print(f\"Page {page} fetched successfully with {len(data['results'])} results.\")\n",
        "    else:\n",
        "        print(f\"Failed to retrieve data for page {page}: {response.status_code}\")\n"
      ],
      "metadata": {
        "colab": {
          "base_uri": "https://localhost:8080/"
        },
        "id": "FFQd81nijYde",
        "outputId": "3eb29843-0fcb-4877-a5e0-8d0ac32e81b7"
      },
      "execution_count": 13,
      "outputs": [
        {
          "output_type": "stream",
          "name": "stdout",
          "text": [
            "Page 1 fetched successfully with 20 results.\n",
            "Page 2 fetched successfully with 20 results.\n",
            "Page 3 fetched successfully with 20 results.\n",
            "Page 4 fetched successfully with 20 results.\n",
            "Page 5 fetched successfully with 20 results.\n",
            "Page 6 fetched successfully with 20 results.\n",
            "Page 7 fetched successfully with 20 results.\n",
            "Page 8 fetched successfully with 20 results.\n",
            "Page 9 fetched successfully with 20 results.\n",
            "Page 10 fetched successfully with 20 results.\n",
            "Page 11 fetched successfully with 20 results.\n",
            "Page 12 fetched successfully with 20 results.\n",
            "Page 13 fetched successfully with 20 results.\n",
            "Page 14 fetched successfully with 20 results.\n",
            "Page 15 fetched successfully with 20 results.\n",
            "Page 16 fetched successfully with 20 results.\n",
            "Page 17 fetched successfully with 20 results.\n",
            "Page 18 fetched successfully with 20 results.\n",
            "Page 19 fetched successfully with 20 results.\n",
            "Page 20 fetched successfully with 20 results.\n",
            "Page 21 fetched successfully with 20 results.\n",
            "Page 22 fetched successfully with 20 results.\n",
            "Page 23 fetched successfully with 20 results.\n",
            "Page 24 fetched successfully with 20 results.\n",
            "Page 25 fetched successfully with 20 results.\n",
            "Page 26 fetched successfully with 20 results.\n",
            "Page 27 fetched successfully with 20 results.\n",
            "Page 28 fetched successfully with 20 results.\n",
            "Page 29 fetched successfully with 20 results.\n",
            "Page 30 fetched successfully with 20 results.\n",
            "Page 31 fetched successfully with 20 results.\n",
            "Page 32 fetched successfully with 20 results.\n",
            "Page 33 fetched successfully with 20 results.\n",
            "Page 34 fetched successfully with 20 results.\n",
            "Page 35 fetched successfully with 20 results.\n",
            "Page 36 fetched successfully with 20 results.\n",
            "Page 37 fetched successfully with 20 results.\n",
            "Page 38 fetched successfully with 20 results.\n",
            "Page 39 fetched successfully with 20 results.\n",
            "Page 40 fetched successfully with 20 results.\n",
            "Page 41 fetched successfully with 20 results.\n",
            "Page 42 fetched successfully with 20 results.\n",
            "Page 43 fetched successfully with 20 results.\n",
            "Page 44 fetched successfully with 20 results.\n",
            "Page 45 fetched successfully with 20 results.\n",
            "Page 46 fetched successfully with 20 results.\n",
            "Page 47 fetched successfully with 20 results.\n",
            "Page 48 fetched successfully with 20 results.\n",
            "Page 49 fetched successfully with 20 results.\n",
            "Page 50 fetched successfully with 20 results.\n",
            "Page 51 fetched successfully with 20 results.\n",
            "Page 52 fetched successfully with 20 results.\n",
            "Page 53 fetched successfully with 20 results.\n",
            "Page 54 fetched successfully with 20 results.\n",
            "Page 55 fetched successfully with 20 results.\n",
            "Page 56 fetched successfully with 20 results.\n",
            "Page 57 fetched successfully with 20 results.\n",
            "Page 58 fetched successfully with 20 results.\n",
            "Page 59 fetched successfully with 20 results.\n",
            "Page 60 fetched successfully with 20 results.\n",
            "Page 61 fetched successfully with 20 results.\n",
            "Page 62 fetched successfully with 20 results.\n",
            "Page 63 fetched successfully with 20 results.\n",
            "Page 64 fetched successfully with 20 results.\n",
            "Page 65 fetched successfully with 20 results.\n",
            "Page 66 fetched successfully with 20 results.\n",
            "Page 67 fetched successfully with 20 results.\n",
            "Page 68 fetched successfully with 20 results.\n",
            "Page 69 fetched successfully with 20 results.\n",
            "Page 70 fetched successfully with 20 results.\n",
            "Page 71 fetched successfully with 20 results.\n",
            "Page 72 fetched successfully with 20 results.\n",
            "Page 73 fetched successfully with 20 results.\n",
            "Page 74 fetched successfully with 20 results.\n",
            "Page 75 fetched successfully with 20 results.\n",
            "Page 76 fetched successfully with 20 results.\n",
            "Page 77 fetched successfully with 20 results.\n",
            "Page 78 fetched successfully with 20 results.\n",
            "Page 79 fetched successfully with 20 results.\n",
            "Page 80 fetched successfully with 20 results.\n",
            "Page 81 fetched successfully with 20 results.\n",
            "Page 82 fetched successfully with 20 results.\n",
            "Page 83 fetched successfully with 20 results.\n",
            "Page 84 fetched successfully with 20 results.\n",
            "Page 85 fetched successfully with 20 results.\n",
            "Page 86 fetched successfully with 20 results.\n",
            "Page 87 fetched successfully with 20 results.\n",
            "Page 88 fetched successfully with 20 results.\n",
            "Page 89 fetched successfully with 20 results.\n",
            "Page 90 fetched successfully with 20 results.\n",
            "Page 91 fetched successfully with 20 results.\n",
            "Page 92 fetched successfully with 20 results.\n",
            "Page 93 fetched successfully with 20 results.\n",
            "Page 94 fetched successfully with 20 results.\n",
            "Page 95 fetched successfully with 20 results.\n",
            "Page 96 fetched successfully with 20 results.\n",
            "Page 97 fetched successfully with 20 results.\n",
            "Page 98 fetched successfully with 20 results.\n",
            "Page 99 fetched successfully with 20 results.\n",
            "Page 100 fetched successfully with 20 results.\n",
            "Page 101 fetched successfully with 20 results.\n",
            "Page 102 fetched successfully with 20 results.\n",
            "Page 103 fetched successfully with 20 results.\n",
            "Page 104 fetched successfully with 20 results.\n",
            "Page 105 fetched successfully with 20 results.\n",
            "Page 106 fetched successfully with 20 results.\n",
            "Page 107 fetched successfully with 20 results.\n",
            "Page 108 fetched successfully with 20 results.\n",
            "Page 109 fetched successfully with 20 results.\n",
            "Page 110 fetched successfully with 20 results.\n",
            "Page 111 fetched successfully with 20 results.\n",
            "Page 112 fetched successfully with 20 results.\n",
            "Page 113 fetched successfully with 20 results.\n",
            "Page 114 fetched successfully with 20 results.\n",
            "Page 115 fetched successfully with 20 results.\n",
            "Page 116 fetched successfully with 20 results.\n",
            "Page 117 fetched successfully with 20 results.\n",
            "Page 118 fetched successfully with 20 results.\n",
            "Page 119 fetched successfully with 20 results.\n",
            "Page 120 fetched successfully with 20 results.\n",
            "Page 121 fetched successfully with 20 results.\n",
            "Page 122 fetched successfully with 20 results.\n",
            "Page 123 fetched successfully with 20 results.\n",
            "Page 124 fetched successfully with 20 results.\n",
            "Page 125 fetched successfully with 20 results.\n",
            "Page 126 fetched successfully with 20 results.\n",
            "Page 127 fetched successfully with 20 results.\n",
            "Page 128 fetched successfully with 20 results.\n",
            "Page 129 fetched successfully with 20 results.\n",
            "Page 130 fetched successfully with 20 results.\n",
            "Page 131 fetched successfully with 20 results.\n",
            "Page 132 fetched successfully with 20 results.\n",
            "Page 133 fetched successfully with 20 results.\n",
            "Page 134 fetched successfully with 20 results.\n",
            "Page 135 fetched successfully with 20 results.\n",
            "Page 136 fetched successfully with 20 results.\n",
            "Page 137 fetched successfully with 20 results.\n",
            "Page 138 fetched successfully with 20 results.\n",
            "Page 139 fetched successfully with 20 results.\n",
            "Page 140 fetched successfully with 20 results.\n",
            "Page 141 fetched successfully with 20 results.\n",
            "Page 142 fetched successfully with 20 results.\n",
            "Page 143 fetched successfully with 20 results.\n",
            "Page 144 fetched successfully with 20 results.\n",
            "Page 145 fetched successfully with 20 results.\n",
            "Page 146 fetched successfully with 20 results.\n",
            "Page 147 fetched successfully with 20 results.\n",
            "Page 148 fetched successfully with 20 results.\n",
            "Page 149 fetched successfully with 20 results.\n",
            "Page 150 fetched successfully with 20 results.\n",
            "Page 151 fetched successfully with 20 results.\n",
            "Page 152 fetched successfully with 20 results.\n",
            "Page 153 fetched successfully with 20 results.\n",
            "Page 154 fetched successfully with 20 results.\n",
            "Page 155 fetched successfully with 20 results.\n",
            "Page 156 fetched successfully with 20 results.\n",
            "Page 157 fetched successfully with 20 results.\n",
            "Page 158 fetched successfully with 20 results.\n",
            "Page 159 fetched successfully with 20 results.\n",
            "Page 160 fetched successfully with 20 results.\n",
            "Page 161 fetched successfully with 20 results.\n",
            "Page 162 fetched successfully with 20 results.\n",
            "Page 163 fetched successfully with 20 results.\n",
            "Page 164 fetched successfully with 20 results.\n",
            "Page 165 fetched successfully with 20 results.\n",
            "Page 166 fetched successfully with 20 results.\n",
            "Page 167 fetched successfully with 20 results.\n",
            "Page 168 fetched successfully with 20 results.\n",
            "Page 169 fetched successfully with 20 results.\n",
            "Page 170 fetched successfully with 20 results.\n",
            "Page 171 fetched successfully with 20 results.\n",
            "Page 172 fetched successfully with 20 results.\n",
            "Page 173 fetched successfully with 20 results.\n",
            "Page 174 fetched successfully with 20 results.\n",
            "Page 175 fetched successfully with 20 results.\n",
            "Page 176 fetched successfully with 20 results.\n",
            "Page 177 fetched successfully with 20 results.\n",
            "Page 178 fetched successfully with 20 results.\n",
            "Page 179 fetched successfully with 20 results.\n",
            "Page 180 fetched successfully with 20 results.\n",
            "Page 181 fetched successfully with 20 results.\n",
            "Page 182 fetched successfully with 20 results.\n",
            "Page 183 fetched successfully with 20 results.\n",
            "Page 184 fetched successfully with 20 results.\n",
            "Page 185 fetched successfully with 20 results.\n",
            "Page 186 fetched successfully with 20 results.\n",
            "Page 187 fetched successfully with 20 results.\n",
            "Page 188 fetched successfully with 20 results.\n",
            "Page 189 fetched successfully with 20 results.\n",
            "Page 190 fetched successfully with 20 results.\n",
            "Page 191 fetched successfully with 20 results.\n",
            "Page 192 fetched successfully with 20 results.\n",
            "Page 193 fetched successfully with 20 results.\n",
            "Page 194 fetched successfully with 20 results.\n",
            "Page 195 fetched successfully with 20 results.\n",
            "Page 196 fetched successfully with 20 results.\n",
            "Page 197 fetched successfully with 20 results.\n",
            "Page 198 fetched successfully with 20 results.\n",
            "Page 199 fetched successfully with 20 results.\n",
            "Page 200 fetched successfully with 20 results.\n",
            "Page 201 fetched successfully with 20 results.\n",
            "Page 202 fetched successfully with 20 results.\n",
            "Page 203 fetched successfully with 20 results.\n",
            "Page 204 fetched successfully with 20 results.\n",
            "Page 205 fetched successfully with 20 results.\n",
            "Page 206 fetched successfully with 20 results.\n",
            "Page 207 fetched successfully with 20 results.\n",
            "Page 208 fetched successfully with 20 results.\n",
            "Page 209 fetched successfully with 20 results.\n",
            "Page 210 fetched successfully with 20 results.\n",
            "Page 211 fetched successfully with 20 results.\n",
            "Page 212 fetched successfully with 20 results.\n",
            "Page 213 fetched successfully with 20 results.\n",
            "Page 214 fetched successfully with 20 results.\n",
            "Page 215 fetched successfully with 20 results.\n",
            "Page 216 fetched successfully with 20 results.\n",
            "Page 217 fetched successfully with 20 results.\n",
            "Page 218 fetched successfully with 20 results.\n",
            "Page 219 fetched successfully with 20 results.\n",
            "Page 220 fetched successfully with 20 results.\n",
            "Page 221 fetched successfully with 20 results.\n",
            "Page 222 fetched successfully with 20 results.\n",
            "Page 223 fetched successfully with 20 results.\n",
            "Page 224 fetched successfully with 20 results.\n",
            "Page 225 fetched successfully with 20 results.\n",
            "Page 226 fetched successfully with 20 results.\n",
            "Page 227 fetched successfully with 20 results.\n",
            "Page 228 fetched successfully with 20 results.\n",
            "Page 229 fetched successfully with 20 results.\n",
            "Page 230 fetched successfully with 20 results.\n",
            "Page 231 fetched successfully with 20 results.\n",
            "Page 232 fetched successfully with 20 results.\n",
            "Page 233 fetched successfully with 20 results.\n",
            "Page 234 fetched successfully with 20 results.\n",
            "Page 235 fetched successfully with 20 results.\n",
            "Page 236 fetched successfully with 20 results.\n",
            "Page 237 fetched successfully with 20 results.\n",
            "Page 238 fetched successfully with 20 results.\n",
            "Page 239 fetched successfully with 20 results.\n",
            "Page 240 fetched successfully with 20 results.\n",
            "Page 241 fetched successfully with 20 results.\n",
            "Page 242 fetched successfully with 20 results.\n",
            "Page 243 fetched successfully with 20 results.\n",
            "Page 244 fetched successfully with 20 results.\n",
            "Page 245 fetched successfully with 20 results.\n",
            "Page 246 fetched successfully with 20 results.\n",
            "Page 247 fetched successfully with 20 results.\n",
            "Page 248 fetched successfully with 20 results.\n",
            "Page 249 fetched successfully with 20 results.\n",
            "Page 250 fetched successfully with 20 results.\n",
            "Page 251 fetched successfully with 20 results.\n",
            "Page 252 fetched successfully with 20 results.\n",
            "Page 253 fetched successfully with 20 results.\n",
            "Page 254 fetched successfully with 20 results.\n",
            "Page 255 fetched successfully with 20 results.\n",
            "Page 256 fetched successfully with 20 results.\n",
            "Page 257 fetched successfully with 20 results.\n",
            "Page 258 fetched successfully with 20 results.\n",
            "Page 259 fetched successfully with 20 results.\n",
            "Page 260 fetched successfully with 20 results.\n",
            "Page 261 fetched successfully with 20 results.\n",
            "Page 262 fetched successfully with 20 results.\n",
            "Page 263 fetched successfully with 20 results.\n",
            "Page 264 fetched successfully with 20 results.\n",
            "Page 265 fetched successfully with 20 results.\n",
            "Page 266 fetched successfully with 20 results.\n",
            "Page 267 fetched successfully with 20 results.\n",
            "Page 268 fetched successfully with 20 results.\n",
            "Page 269 fetched successfully with 20 results.\n",
            "Page 270 fetched successfully with 20 results.\n",
            "Page 271 fetched successfully with 20 results.\n",
            "Page 272 fetched successfully with 20 results.\n",
            "Page 273 fetched successfully with 20 results.\n",
            "Page 274 fetched successfully with 20 results.\n",
            "Page 275 fetched successfully with 20 results.\n",
            "Page 276 fetched successfully with 20 results.\n",
            "Page 277 fetched successfully with 20 results.\n",
            "Page 278 fetched successfully with 20 results.\n",
            "Page 279 fetched successfully with 20 results.\n",
            "Page 280 fetched successfully with 20 results.\n",
            "Page 281 fetched successfully with 20 results.\n",
            "Page 282 fetched successfully with 20 results.\n",
            "Page 283 fetched successfully with 20 results.\n",
            "Page 284 fetched successfully with 20 results.\n",
            "Page 285 fetched successfully with 20 results.\n",
            "Page 286 fetched successfully with 20 results.\n",
            "Page 287 fetched successfully with 20 results.\n",
            "Page 288 fetched successfully with 20 results.\n",
            "Page 289 fetched successfully with 20 results.\n",
            "Page 290 fetched successfully with 20 results.\n",
            "Page 291 fetched successfully with 20 results.\n",
            "Page 292 fetched successfully with 20 results.\n",
            "Page 293 fetched successfully with 20 results.\n",
            "Page 294 fetched successfully with 20 results.\n",
            "Page 295 fetched successfully with 20 results.\n",
            "Page 296 fetched successfully with 20 results.\n",
            "Page 297 fetched successfully with 20 results.\n",
            "Page 298 fetched successfully with 20 results.\n",
            "Page 299 fetched successfully with 20 results.\n",
            "Page 300 fetched successfully with 20 results.\n",
            "Page 301 fetched successfully with 20 results.\n",
            "Page 302 fetched successfully with 20 results.\n",
            "Page 303 fetched successfully with 20 results.\n",
            "Page 304 fetched successfully with 20 results.\n",
            "Page 305 fetched successfully with 20 results.\n",
            "Page 306 fetched successfully with 20 results.\n",
            "Page 307 fetched successfully with 20 results.\n",
            "Page 308 fetched successfully with 20 results.\n",
            "Page 309 fetched successfully with 20 results.\n",
            "Page 310 fetched successfully with 20 results.\n",
            "Page 311 fetched successfully with 20 results.\n",
            "Page 312 fetched successfully with 20 results.\n",
            "Page 313 fetched successfully with 20 results.\n",
            "Page 314 fetched successfully with 20 results.\n",
            "Page 315 fetched successfully with 20 results.\n",
            "Page 316 fetched successfully with 20 results.\n",
            "Page 317 fetched successfully with 20 results.\n",
            "Page 318 fetched successfully with 20 results.\n",
            "Page 319 fetched successfully with 20 results.\n",
            "Page 320 fetched successfully with 20 results.\n",
            "Page 321 fetched successfully with 20 results.\n",
            "Page 322 fetched successfully with 20 results.\n",
            "Page 323 fetched successfully with 20 results.\n",
            "Page 324 fetched successfully with 20 results.\n",
            "Page 325 fetched successfully with 20 results.\n",
            "Page 326 fetched successfully with 20 results.\n",
            "Page 327 fetched successfully with 20 results.\n",
            "Page 328 fetched successfully with 20 results.\n",
            "Page 329 fetched successfully with 20 results.\n",
            "Page 330 fetched successfully with 20 results.\n",
            "Page 331 fetched successfully with 20 results.\n",
            "Page 332 fetched successfully with 20 results.\n",
            "Page 333 fetched successfully with 20 results.\n",
            "Page 334 fetched successfully with 20 results.\n",
            "Page 335 fetched successfully with 20 results.\n",
            "Page 336 fetched successfully with 20 results.\n",
            "Page 337 fetched successfully with 20 results.\n",
            "Page 338 fetched successfully with 20 results.\n",
            "Page 339 fetched successfully with 20 results.\n",
            "Page 340 fetched successfully with 20 results.\n",
            "Page 341 fetched successfully with 20 results.\n",
            "Page 342 fetched successfully with 20 results.\n",
            "Page 343 fetched successfully with 20 results.\n",
            "Page 344 fetched successfully with 20 results.\n",
            "Page 345 fetched successfully with 20 results.\n",
            "Page 346 fetched successfully with 20 results.\n",
            "Page 347 fetched successfully with 20 results.\n",
            "Page 348 fetched successfully with 20 results.\n",
            "Page 349 fetched successfully with 20 results.\n",
            "Page 350 fetched successfully with 20 results.\n",
            "Page 351 fetched successfully with 20 results.\n",
            "Page 352 fetched successfully with 20 results.\n",
            "Page 353 fetched successfully with 20 results.\n",
            "Page 354 fetched successfully with 20 results.\n",
            "Page 355 fetched successfully with 20 results.\n",
            "Page 356 fetched successfully with 20 results.\n",
            "Page 357 fetched successfully with 20 results.\n",
            "Page 358 fetched successfully with 20 results.\n",
            "Page 359 fetched successfully with 20 results.\n",
            "Page 360 fetched successfully with 20 results.\n",
            "Page 361 fetched successfully with 20 results.\n",
            "Page 362 fetched successfully with 20 results.\n",
            "Page 363 fetched successfully with 20 results.\n",
            "Page 364 fetched successfully with 20 results.\n",
            "Page 365 fetched successfully with 20 results.\n",
            "Page 366 fetched successfully with 20 results.\n",
            "Page 367 fetched successfully with 20 results.\n",
            "Page 368 fetched successfully with 20 results.\n",
            "Page 369 fetched successfully with 20 results.\n",
            "Page 370 fetched successfully with 20 results.\n",
            "Page 371 fetched successfully with 20 results.\n",
            "Page 372 fetched successfully with 20 results.\n",
            "Page 373 fetched successfully with 20 results.\n",
            "Page 374 fetched successfully with 20 results.\n",
            "Page 375 fetched successfully with 20 results.\n",
            "Page 376 fetched successfully with 20 results.\n",
            "Page 377 fetched successfully with 20 results.\n",
            "Page 378 fetched successfully with 20 results.\n",
            "Page 379 fetched successfully with 20 results.\n",
            "Page 380 fetched successfully with 20 results.\n",
            "Page 381 fetched successfully with 20 results.\n",
            "Page 382 fetched successfully with 20 results.\n",
            "Page 383 fetched successfully with 20 results.\n",
            "Page 384 fetched successfully with 20 results.\n",
            "Page 385 fetched successfully with 20 results.\n",
            "Page 386 fetched successfully with 20 results.\n",
            "Page 387 fetched successfully with 20 results.\n",
            "Page 388 fetched successfully with 20 results.\n",
            "Page 389 fetched successfully with 20 results.\n",
            "Page 390 fetched successfully with 20 results.\n",
            "Page 391 fetched successfully with 20 results.\n",
            "Page 392 fetched successfully with 20 results.\n",
            "Page 393 fetched successfully with 20 results.\n",
            "Page 394 fetched successfully with 20 results.\n",
            "Page 395 fetched successfully with 20 results.\n",
            "Page 396 fetched successfully with 20 results.\n",
            "Page 397 fetched successfully with 20 results.\n",
            "Page 398 fetched successfully with 20 results.\n",
            "Page 399 fetched successfully with 20 results.\n",
            "Page 400 fetched successfully with 20 results.\n",
            "Page 401 fetched successfully with 20 results.\n",
            "Page 402 fetched successfully with 20 results.\n",
            "Page 403 fetched successfully with 20 results.\n",
            "Page 404 fetched successfully with 20 results.\n",
            "Page 405 fetched successfully with 20 results.\n",
            "Page 406 fetched successfully with 20 results.\n",
            "Page 407 fetched successfully with 20 results.\n",
            "Page 408 fetched successfully with 20 results.\n",
            "Page 409 fetched successfully with 20 results.\n",
            "Page 410 fetched successfully with 20 results.\n",
            "Page 411 fetched successfully with 20 results.\n",
            "Page 412 fetched successfully with 20 results.\n",
            "Page 413 fetched successfully with 20 results.\n",
            "Page 414 fetched successfully with 20 results.\n",
            "Page 415 fetched successfully with 20 results.\n",
            "Page 416 fetched successfully with 20 results.\n",
            "Page 417 fetched successfully with 20 results.\n",
            "Page 418 fetched successfully with 20 results.\n",
            "Page 419 fetched successfully with 20 results.\n",
            "Page 420 fetched successfully with 20 results.\n",
            "Page 421 fetched successfully with 20 results.\n",
            "Page 422 fetched successfully with 20 results.\n",
            "Page 423 fetched successfully with 20 results.\n",
            "Page 424 fetched successfully with 20 results.\n",
            "Page 425 fetched successfully with 20 results.\n",
            "Page 426 fetched successfully with 20 results.\n",
            "Page 427 fetched successfully with 20 results.\n",
            "Page 428 fetched successfully with 20 results.\n",
            "Page 429 fetched successfully with 20 results.\n",
            "Page 430 fetched successfully with 20 results.\n",
            "Page 431 fetched successfully with 20 results.\n",
            "Page 432 fetched successfully with 20 results.\n",
            "Page 433 fetched successfully with 20 results.\n",
            "Page 434 fetched successfully with 20 results.\n",
            "Page 435 fetched successfully with 20 results.\n",
            "Page 436 fetched successfully with 20 results.\n",
            "Page 437 fetched successfully with 20 results.\n",
            "Page 438 fetched successfully with 20 results.\n",
            "Page 439 fetched successfully with 20 results.\n",
            "Page 440 fetched successfully with 20 results.\n",
            "Page 441 fetched successfully with 20 results.\n",
            "Page 442 fetched successfully with 20 results.\n",
            "Page 443 fetched successfully with 20 results.\n",
            "Page 444 fetched successfully with 20 results.\n",
            "Page 445 fetched successfully with 20 results.\n",
            "Page 446 fetched successfully with 20 results.\n",
            "Page 447 fetched successfully with 20 results.\n",
            "Page 448 fetched successfully with 20 results.\n",
            "Page 449 fetched successfully with 20 results.\n",
            "Page 450 fetched successfully with 20 results.\n",
            "Page 451 fetched successfully with 20 results.\n",
            "Page 452 fetched successfully with 20 results.\n",
            "Page 453 fetched successfully with 20 results.\n",
            "Page 454 fetched successfully with 20 results.\n",
            "Page 455 fetched successfully with 20 results.\n",
            "Page 456 fetched successfully with 20 results.\n",
            "Page 457 fetched successfully with 20 results.\n",
            "Page 458 fetched successfully with 20 results.\n",
            "Page 459 fetched successfully with 20 results.\n",
            "Page 460 fetched successfully with 20 results.\n",
            "Page 461 fetched successfully with 20 results.\n",
            "Page 462 fetched successfully with 20 results.\n",
            "Page 463 fetched successfully with 20 results.\n",
            "Page 464 fetched successfully with 20 results.\n",
            "Page 465 fetched successfully with 20 results.\n",
            "Page 466 fetched successfully with 20 results.\n",
            "Page 467 fetched successfully with 20 results.\n",
            "Page 468 fetched successfully with 20 results.\n",
            "Page 469 fetched successfully with 20 results.\n",
            "Page 470 fetched successfully with 20 results.\n",
            "Page 471 fetched successfully with 20 results.\n",
            "Page 472 fetched successfully with 20 results.\n",
            "Page 473 fetched successfully with 20 results.\n",
            "Page 474 fetched successfully with 20 results.\n",
            "Page 475 fetched successfully with 20 results.\n",
            "Page 476 fetched successfully with 20 results.\n",
            "Page 477 fetched successfully with 3 results.\n"
          ]
        }
      ]
    },
    {
      "cell_type": "code",
      "source": [
        "df = pd.DataFrame(all_results)"
      ],
      "metadata": {
        "id": "UavcAOgyjhg4"
      },
      "execution_count": 14,
      "outputs": []
    },
    {
      "cell_type": "code",
      "source": [
        "print(df)"
      ],
      "metadata": {
        "colab": {
          "base_uri": "https://localhost:8080/"
        },
        "id": "QPYrU0lEk45o",
        "outputId": "152520d5-105b-4f53-e257-810be338c098"
      },
      "execution_count": 15,
      "outputs": [
        {
          "output_type": "stream",
          "name": "stdout",
          "text": [
            "       adult                     backdrop_path              genre_ids     id  \\\n",
            "0      False  /avedvodAZUcwqevBfm8p4G2NziQ.jpg               [18, 80]    278   \n",
            "1      False  /tmU7GeKVybMWFButWEGl2M4GeiP.jpg               [18, 80]    238   \n",
            "2      False  /kGzFbGhp99zva6oZODW5atUtnqi.jpg               [18, 80]    240   \n",
            "3      False  /zb6fM1CX41D9rF9hdgclu0peUmy.jpg        [18, 36, 10752]    424   \n",
            "4      False  /qqHQsStV6exghCM7zbObuYBiYxw.jpg                   [18]    389   \n",
            "...      ...                               ...                    ...    ...   \n",
            "18938  False  /lcLyZzhB1ctfdH0hGBsTFrbflqP.jpg           [28, 14, 27]  12142   \n",
            "18939  False  /5V6jAFS0Q49SI07qjyFRMYlbfR9.jpg                   [35]  13805   \n",
            "18940  False  /aNUEHLNsNMprLZt6fjf5nqDq6er.jpg           [27, 28, 53]  11059   \n",
            "18941  False  /oHrrgAPEKpz0S1ofQntiZNrmGrM.jpg  [28, 12, 14, 878, 53]  14164   \n",
            "18942  False  /wDrs28ZYYnXVIeb87H0dCYlWiFA.jpg        [10749, 27, 53]  40016   \n",
            "\n",
            "      original_language              original_title  \\\n",
            "0                    en    The Shawshank Redemption   \n",
            "1                    en               The Godfather   \n",
            "2                    en       The Godfather Part II   \n",
            "3                    en            Schindler's List   \n",
            "4                    en                12 Angry Men   \n",
            "...                 ...                         ...   \n",
            "18938                en           Alone in the Dark   \n",
            "18939                en              Disaster Movie   \n",
            "18940                en           House of the Dead   \n",
            "18941                en        Dragonball Evolution   \n",
            "18942                en  Birdemic: Shock and Terror   \n",
            "\n",
            "                                                overview  popularity  \\\n",
            "0      Imprisoned in the 1940s for the double murder ...     213.046   \n",
            "1      Spanning the years 1945 to 1955, a chronicle o...     273.000   \n",
            "2      In the continuing saga of the Corleone crime f...     140.060   \n",
            "3      The true story of how businessman Oskar Schind...     172.690   \n",
            "4      The defense and the prosecution have rested an...     129.109   \n",
            "...                                                  ...         ...   \n",
            "18938  Edward Carnby is a private investigator specia...      15.803   \n",
            "18939  Over the course of one evening, an unsuspectin...      19.990   \n",
            "18940  Set on an island off the coast, a techno rave ...      14.597   \n",
            "18941  On his 18th birthday, Goku receives a mystical...      23.515   \n",
            "18942  A platoon of eagles and vultures attacks the r...      11.126   \n",
            "\n",
            "                            poster_path release_date  \\\n",
            "0      /9cqNxx0GxF0bflZmeSMuL5tnGzr.jpg   1994-09-23   \n",
            "1      /3bhkrj58Vtu7enYsRolD1fZdja1.jpg   1972-03-14   \n",
            "2      /hek3koDUyRQk7FIhPXsa6mT2Zc3.jpg   1974-12-20   \n",
            "3      /sF1U4EUQS8YHUYjNl3pMGNIQyr0.jpg   1993-12-15   \n",
            "4      /ow3wq89wM8qd5X7hWKxiRfsFf9C.jpg   1957-04-10   \n",
            "...                                 ...          ...   \n",
            "18938  /bSxrbVCyWW077zhtpuYlo3zgyug.jpg   2005-01-28   \n",
            "18939  /3J8XKUfhJiNzwobUZVtizXYPe8b.jpg   2008-08-29   \n",
            "18940  /z2mDGbV4pLtsvSMNnmnSgoVZSWK.jpg   2003-04-11   \n",
            "18941   /sunS9xhPnFNP5wlOWrvbpBteAB.jpg   2009-03-12   \n",
            "18942  /gqmcAVNNUosB55RliecFYnkWT4M.jpg   2010-02-27   \n",
            "\n",
            "                            title  video  vote_average  vote_count  \n",
            "0        The Shawshank Redemption  False         8.705       26536  \n",
            "1                   The Godfather  False         8.691       20145  \n",
            "2           The Godfather Part II  False         8.575       12155  \n",
            "3                Schindler's List  False         8.566       15562  \n",
            "4                    12 Angry Men  False         8.544        8405  \n",
            "...                           ...    ...           ...         ...  \n",
            "18938           Alone in the Dark  False         3.248         591  \n",
            "18939              Disaster Movie  False         3.184        1006  \n",
            "18940           House of the Dead  False         3.139         374  \n",
            "18941        Dragonball Evolution  False         2.900        2002  \n",
            "18942  Birdemic: Shock and Terror  False         2.184         326  \n",
            "\n",
            "[18943 rows x 14 columns]\n"
          ]
        }
      ]
    },
    {
      "cell_type": "code",
      "source": [
        "print(f\"Total results fetched: {len(all_results)}\")\n",
        "print(f\"DataFrame shape: {df.shape}\")"
      ],
      "metadata": {
        "colab": {
          "base_uri": "https://localhost:8080/"
        },
        "id": "KjbPOEHrlcLy",
        "outputId": "9f9d500e-e0bf-4e87-f748-fd006dc7cfe6"
      },
      "execution_count": 17,
      "outputs": [
        {
          "output_type": "stream",
          "name": "stdout",
          "text": [
            "Total results fetched: 18943\n",
            "DataFrame shape: (18943, 14)\n"
          ]
        }
      ]
    },
    {
      "cell_type": "code",
      "source": [
        "df_duplicates = df[df.duplicated(subset=['id'], keep=False)]"
      ],
      "metadata": {
        "id": "hyvtNmzrmID3"
      },
      "execution_count": 10,
      "outputs": []
    },
    {
      "cell_type": "code",
      "source": [
        "# Display any duplicate entries\n",
        "print(f\"Number of duplicate entries: {df_duplicates.shape[0]}\")\n",
        "if not df_duplicates.empty:\n",
        "    print(\"Duplicate entries found:\")\n",
        "    print(df_duplicates)\n"
      ],
      "metadata": {
        "colab": {
          "base_uri": "https://localhost:8080/"
        },
        "id": "6HC1VfBRmM9z",
        "outputId": "ab1f773e-1e19-4333-f748-a04f4c224d08"
      },
      "execution_count": 19,
      "outputs": [
        {
          "output_type": "stream",
          "name": "stdout",
          "text": [
            "Number of duplicate entries: 2\n",
            "Duplicate entries found:\n",
            "      adult                     backdrop_path    genre_ids    id  \\\n",
            "5316  False  /hExj5Q2lrXZCjZQT0N9j3MHpa9n.jpg  [35, 10749]  9768   \n",
            "5330  False  /hExj5Q2lrXZCjZQT0N9j3MHpa9n.jpg  [35, 10749]  9768   \n",
            "\n",
            "     original_language original_title  \\\n",
            "5316                en       Cry-Baby   \n",
            "5330                en       Cry-Baby   \n",
            "\n",
            "                                               overview  popularity  \\\n",
            "5316  A prim and proper schoolgirl goes against her ...      24.081   \n",
            "5330  A prim and proper schoolgirl goes against her ...      24.081   \n",
            "\n",
            "                           poster_path release_date     title  video  \\\n",
            "5316  /qV1XYzb2QTvpcnfSnYVSunGQ4XA.jpg   1990-04-06  Cry-Baby  False   \n",
            "5330  /qV1XYzb2QTvpcnfSnYVSunGQ4XA.jpg   1990-04-06  Cry-Baby  False   \n",
            "\n",
            "      vote_average  vote_count  \n",
            "5316         6.533        1470  \n",
            "5330         6.533        1470  \n"
          ]
        }
      ]
    },
    {
      "cell_type": "code",
      "source": [
        "# Remove duplicate entries\n",
        "df_cleaned = df.drop_duplicates(subset=['id'])\n",
        "\n",
        "# Display the cleaned DataFrame and its shape\n",
        "print(f\"Cleaned DataFrame shape: {df_cleaned.shape}\")"
      ],
      "metadata": {
        "colab": {
          "base_uri": "https://localhost:8080/"
        },
        "id": "h0azIInVqJ2T",
        "outputId": "2ab03bcb-ea7f-4bf3-c4ba-721cf2cc7d50"
      },
      "execution_count": 23,
      "outputs": [
        {
          "output_type": "stream",
          "name": "stdout",
          "text": [
            "Cleaned DataFrame shape: (9522, 14)\n"
          ]
        }
      ]
    },
    {
      "cell_type": "code",
      "source": [
        "# Check for missing values\n",
        "missing_values = df.isnull().sum()\n",
        "print(f\"Missing values in each column:\\n{missing_values}\")"
      ],
      "metadata": {
        "colab": {
          "base_uri": "https://localhost:8080/"
        },
        "id": "ORpWMySNmTeo",
        "outputId": "4d594dde-fda4-4483-95b7-cc018fba24a5"
      },
      "execution_count": 12,
      "outputs": [
        {
          "output_type": "stream",
          "name": "stdout",
          "text": [
            "Missing values in each column:\n",
            "adult                0\n",
            "backdrop_path        7\n",
            "genre_ids            0\n",
            "id                   0\n",
            "original_language    0\n",
            "original_title       0\n",
            "overview             0\n",
            "popularity           0\n",
            "poster_path          3\n",
            "release_date         0\n",
            "title                0\n",
            "video                0\n",
            "vote_average         0\n",
            "vote_count           0\n",
            "dtype: int64\n"
          ]
        }
      ]
    },
    {
      "cell_type": "code",
      "source": [
        "unique_ids = df['id'].nunique()\n",
        "print(f\"Unique movie IDs: {unique_ids}\")"
      ],
      "metadata": {
        "colab": {
          "base_uri": "https://localhost:8080/"
        },
        "id": "dEupJQNtmUkN",
        "outputId": "74f5f90c-a8a8-443f-8419-203cceea4e69"
      },
      "execution_count": 18,
      "outputs": [
        {
          "output_type": "stream",
          "name": "stdout",
          "text": [
            "Unique movie IDs: 9522\n"
          ]
        }
      ]
    },
    {
      "cell_type": "code",
      "source": [
        "# Fill missing values with a placeholder (e.g., 'N/A')\n",
        "df_cleaned['backdrop_path'] = df_cleaned['backdrop_path'].fillna('N/A')\n",
        "df_cleaned['poster_path'] = df_cleaned['poster_path'].fillna('N/A')\n",
        "\n",
        "# Display the cleaned DataFrame and its shape\n",
        "print(f\"Cleaned DataFrame shape after filling missing values: {df_cleaned.shape}\")\n"
      ],
      "metadata": {
        "colab": {
          "base_uri": "https://localhost:8080/"
        },
        "id": "ts5r_3QBpqhd",
        "outputId": "d551ece5-926e-4032-fbfb-a45e37b5c95e"
      },
      "execution_count": 21,
      "outputs": [
        {
          "output_type": "stream",
          "name": "stdout",
          "text": [
            "Cleaned DataFrame shape after filling missing values: (9522, 14)\n"
          ]
        },
        {
          "output_type": "stream",
          "name": "stderr",
          "text": [
            "<ipython-input-21-26c40efe1b3a>:2: SettingWithCopyWarning: \n",
            "A value is trying to be set on a copy of a slice from a DataFrame.\n",
            "Try using .loc[row_indexer,col_indexer] = value instead\n",
            "\n",
            "See the caveats in the documentation: https://pandas.pydata.org/pandas-docs/stable/user_guide/indexing.html#returning-a-view-versus-a-copy\n",
            "  df_cleaned['backdrop_path'] = df_cleaned['backdrop_path'].fillna('N/A')\n",
            "<ipython-input-21-26c40efe1b3a>:3: SettingWithCopyWarning: \n",
            "A value is trying to be set on a copy of a slice from a DataFrame.\n",
            "Try using .loc[row_indexer,col_indexer] = value instead\n",
            "\n",
            "See the caveats in the documentation: https://pandas.pydata.org/pandas-docs/stable/user_guide/indexing.html#returning-a-view-versus-a-copy\n",
            "  df_cleaned['poster_path'] = df_cleaned['poster_path'].fillna('N/A')\n"
          ]
        }
      ]
    },
    {
      "cell_type": "code",
      "source": [
        "# Export the cleaned DataFrame to a CSV file\n",
        "df_cleaned.to_csv('cleaned_movie_data.csv', index=False)\n",
        "print(\"Data exported to cleaned_movie_data.csv\")"
      ],
      "metadata": {
        "colab": {
          "base_uri": "https://localhost:8080/"
        },
        "id": "i0-WJfvIqmFS",
        "outputId": "61dd97d3-489f-4f4d-ac24-4871cb4692f7"
      },
      "execution_count": 24,
      "outputs": [
        {
          "output_type": "stream",
          "name": "stdout",
          "text": [
            "Data exported to cleaned_movie_data.csv\n"
          ]
        }
      ]
    },
    {
      "cell_type": "code",
      "source": [
        "# prompt: i only want 3 columns\n",
        "# name, description, genre\n",
        "# and export them in csv\n",
        "\n",
        "import requests\n",
        "import pandas as pd\n",
        "# !pip install requests pandas\n",
        "url = \"https://api.themoviedb.org/3/movie/top_rated\"\n",
        "api_key = \"8265bd1679663a7ea12ac168da84d2e8\"\n",
        "params = {\n",
        "    \"api_key\": api_key,\n",
        "    \"language\": \"en-US\",\n",
        "}\n",
        "all_results = []\n",
        "# Loop through each page and fetch the data\n",
        "for page in range(1, 478):\n",
        "    params['page'] = page\n",
        "    response = requests.get(url, params=params)\n",
        "\n",
        "    # Check if the request was successful\n",
        "    if response.status_code == 200:\n",
        "        # Parse the JSON response\n",
        "        data = response.json()\n",
        "\n",
        "        # Extract the results and add to the list\n",
        "        all_results.extend(data['results'])\n",
        "        print(f\"Page {page} fetched successfully with {len(data['results'])} results.\")\n",
        "    else:\n",
        "        print(f\"Failed to retrieve data for page {page}: {response.status_code}\")\n",
        "\n",
        "df = pd.DataFrame(all_results)\n",
        "print(df)\n",
        "print(f\"Total results fetched: {len(all_results)}\")\n",
        "print(f\"DataFrame shape: {df.shape}\")\n",
        "df_duplicates = df[df.duplicated(subset=['id'], keep=False)]\n",
        "# Display any duplicate entries\n",
        "print(f\"Number of duplicate entries: {df_duplicates.shape[0]}\")\n",
        "if not df_duplicates.empty:\n",
        "    print(\"Duplicate entries found:\")\n",
        "    print(df_duplicates)\n",
        "\n",
        "# Remove duplicate entries\n",
        "df_cleaned = df.drop_duplicates(subset=['id'])\n",
        "\n",
        "# Display the cleaned DataFrame and its shape\n",
        "print(f\"Cleaned DataFrame shape: {df_cleaned.shape}\")\n",
        "# Check for missing values\n",
        "missing_values = df.isnull().sum()\n",
        "print(f\"Missing values in each column:\\n{missing_values}\")\n",
        "unique_ids = df['id'].nunique()\n",
        "print(f\"Unique movie IDs: {unique_ids}\")\n",
        "# Fill missing values with a placeholder (e.g., 'N/A')\n",
        "df_cleaned['backdrop_path'] = df_cleaned['backdrop_path'].fillna('N/A')\n",
        "df_cleaned['poster_path'] = df_cleaned['poster_path'].fillna('N/A')\n",
        "\n",
        "# Display the cleaned DataFrame and its shape\n",
        "print(f\"Cleaned DataFrame shape after filling missing values: {df_cleaned.shape}\")\n",
        "\n",
        "# Select only the desired columns\n",
        "selected_df = df_cleaned[['title', 'overview', 'genre_ids']]\n",
        "\n",
        "# Rename the columns\n",
        "selected_df = selected_df.rename(columns={\n",
        "    'title': 'name',\n",
        "    'overview': 'description',\n",
        "    'genre_ids': 'genre'\n",
        "})\n",
        "\n",
        "# Export the selected DataFrame to a CSV file\n",
        "selected_df.to_csv('selected_movie_data.csv', index=False)\n",
        "print(\"Data exported to selected_movie_data.csv\")\n"
      ],
      "metadata": {
        "id": "laKOIuVNq1w4"
      },
      "execution_count": null,
      "outputs": []
    },
    {
      "cell_type": "code",
      "source": [
        "# Select only the desired columns\n",
        "selected_df = df_cleaned[['title', 'overview', 'genre_ids']]"
      ],
      "metadata": {
        "id": "RA2R0KA8rc8b"
      },
      "execution_count": 25,
      "outputs": []
    },
    {
      "cell_type": "code",
      "source": [
        "# Rename the columns\n",
        "selected_df = selected_df.rename(columns={\n",
        "    'title': 'name',\n",
        "    'overview': 'description',\n",
        "    'genre_ids': 'genre'\n",
        "})"
      ],
      "metadata": {
        "id": "UM-8Ak3qrfP6"
      },
      "execution_count": 26,
      "outputs": []
    },
    {
      "cell_type": "code",
      "source": [
        "# Export the selected DataFrame to a CSV file\n",
        "selected_df.to_csv('selected_movie_data.csv', index=False)\n",
        "print(\"Data exported to selected_movie_data.csv\")"
      ],
      "metadata": {
        "colab": {
          "base_uri": "https://localhost:8080/"
        },
        "id": "vNS5cz7HrhF1",
        "outputId": "cb034d06-ccf3-41dc-87c9-f4d4451bfffd"
      },
      "execution_count": 27,
      "outputs": [
        {
          "output_type": "stream",
          "name": "stdout",
          "text": [
            "Data exported to selected_movie_data.csv\n"
          ]
        }
      ]
    },
    {
      "cell_type": "code",
      "source": [],
      "metadata": {
        "id": "yTIb5yBCriWY"
      },
      "execution_count": null,
      "outputs": []
    }
  ]
}